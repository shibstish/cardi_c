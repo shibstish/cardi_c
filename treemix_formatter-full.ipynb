{
 "cells": [
  {
   "cell_type": "code",
   "execution_count": 1,
   "metadata": {},
   "outputs": [],
   "source": [
    "#-------------------------------------------------------------------------------\n",
    "# Name:        1st program applied to vcf file\n",
    "# Purpose:     Deletes snps if more that two bases segregate, genotype, and total read depth\n",
    "# Before this: Shelby used Broad Institute recommendations to hard filter low-quality SNPs\n",
    "#-------------------------------------------------------------------------------\n",
    "\n",
    "NoSamples = 47\n",
    "\n",
    "#infile = \"/Ccordifolia.f.vcf\" #test\n",
    "\n",
    "\n",
    "\n",
    "src  =open(infile, \"r\")\n",
    "#out1 =open(\"Ccordi_4tm.txt\", \"w\")\n",
    "\n",
    "\n",
    "#built in functions for multiple delimiters\n",
    "import re\n",
    "\n",
    "dopo=0 # turn to 1 after reaching #CHROM line\n",
    "for line_idx, line in enumerate(src):\n",
    "        cols = line.replace('\\n', '').split('\\t')    \n",
    "        if cols[0] == \"#CHROM\" and dopo==0:\n",
    "            out1.write(cols[0]+'\\t'+cols[1]+'\\t'+cols[3]+'\\t'+cols[4])\n",
    "            out1.write('\\t'+ \"M3_10\"+'\\t'+\"M3_4\"+'\\t'+\"M3_5\"+'\\t'+\"M3_6\"+'\\t'+\"M3_7\"+'\\t'+\"M3_8\"+'\\t'+\"M3_9\"+'\\t'+\"M1_1\"+'\\t'+\n",
    "                       \"M1_10\"+'\\t'+ \"M1_2\"+'\\t'+\"M1_3\"+'\\t'+\"M1_4\"+'\\t'+\"M1_5\"+'\\t'+\"M1_6\"+'\\t'+\"M1_7\"+'\\t'+\"M1_8\"\n",
    "                       +'\\t'+\"M1_9\"+'\\t'+\"A2_1\"+'\\t'+\"A2_10\"+'\\t'+\"A2_2\"+'\\t'+\"A2_5\"+'\\t'+\"A2_6\"+'\\t'+\"A2_7\"+'\\t'+\"A2_8\"+'\\t'+\"A2_9\"+\n",
    "                       '\\t'+\"M2_1\"+'\\t'+\"M2_10\"+'\\t'+\"M2_2\"+'\\t'+\"M2_4\"+'\\t'+\"M2_7\"+'\\t'+\"M2_8\"+'\\t'+\"M2_9\"+'\\t'+\"A3_1\"+'\\t'+\"A3_10\"+\n",
    "                       '\\t'+\"A3_2\"+'\\t'+\"A3_3\"+'\\t'+\"A3_4\"+'\\t'+\"A3_5\"+'\\t'+\"A3_6\"+'\\t'+\"A3_7\"+'\\t'+\"A3_8\"+'\\t'+\"A1_1\"+'\\t'+\"A1_11\"+\n",
    "                       '\\t'+\"A1_2\"+'\\t'+\"A1_3\"+'\\t'+\"A1_5\"+'\\t'+\"A1_6\"+'\\n')\n",
    "            dopo=1\n",
    "        elif dopo==1:\n",
    "            ref_base = cols[3]\n",
    "            alt_base = cols[4]\n",
    "            if len(alt_base) > 1:\t# multiple bases at site or indel\n",
    "                pass\n",
    "            elif len(ref_base) > 1:\t# indel\n",
    "                pass\n",
    "            else:\t# we have a biallelic snp if we reach this point\n",
    "                if cols[6]==\"PASS\": # drop failing SNPs --this used to be 'if cols[6]==\"PASS\"\n",
    "                    #only use a SNP if data present in ALL populations\n",
    "                    out1.write(cols[0]+'\\t'+cols[1]+'\\t'+cols[3]+'\\t'+cols[4]) # test that all populations have data in the GT field\n",
    "                    for j in range(9,9+NoSamples):  \n",
    "                        #SNPs where individuals lack data seem to have a length greater than 5\n",
    "                        if (cols[j]!=\"./.\" and cols[j]!=\".|.\"):\n",
    "                            #extract allele on chromosome from mom and dad                            \n",
    "                            allele1=cols[j].split('/')[0]\n",
    "                            print(allele1)\n",
    "                            allele2=cols[j].split('/')[2]\n",
    "                            print(allele2)\n",
    "                            #sum alleles to get genotype at a locus for individual\n",
    "                            Ind=int(allele1)+int(allele2)\n",
    "                            #save to file: genotype (0,1,2), total reads\n",
    "                            out1.write('\\t'+str(Ind))\n",
    "                        else:\n",
    "                            out1.write('\\t'+'NA')\n",
    "                    out1.write('\\n')\n",
    "out1.close()"
   ]
  },
  {
   "cell_type": "code",
   "execution_count": null,
   "metadata": {},
   "outputs": [],
   "source": []
  }
 ],
 "metadata": {
  "kernelspec": {
   "display_name": "Python 3 (ipykernel)",
   "language": "python",
   "name": "python3"
  },
  "language_info": {
   "codemirror_mode": {
    "name": "ipython",
    "version": 3
   },
   "file_extension": ".py",
   "mimetype": "text/x-python",
   "name": "python",
   "nbconvert_exporter": "python",
   "pygments_lexer": "ipython3",
   "version": "3.9.16"
  }
 },
 "nbformat": 4,
 "nbformat_minor": 4
}
